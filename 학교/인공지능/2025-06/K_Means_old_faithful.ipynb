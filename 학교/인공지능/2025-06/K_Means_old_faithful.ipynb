{
  "cells": [
    {
      "cell_type": "markdown",
      "metadata": {
        "id": "PPap0VecGZv9"
      },
      "source": [
        "# Old Faithful Geyser Clustering 실습 (K-Means)\n",
        "---\n",
        "\n",
        "이 노트북에서는 Yellowstone에 있는 Old Faithful Geyser(간헐천)의 **분출 시간**과 **다음 분출까지의 대기 시간** 데이터를 이용해 K-Means 클러스터링을 수행합니다.\n",
        "\n",
        "- **데이터셋 설명**:\n",
        "  - `eruption duration`: 간헐천의 분출 시간 (분)\n",
        "  - `waiting time`: 다음 분출까지의 대기 시간 (분)\n",
        "\n",
        "- **학습 목표**:\n",
        "  1. 데이터를 시각적으로 탐색\n",
        "  2. K-Means로 분출 패턴을 2개의 그룹으로 분류\n",
        "  3. 클러스터 중심 및 분포를 시각화\n"
      ]
    },
    {
      "cell_type": "markdown",
      "metadata": {
        "id": "JuRuKYxLGgDV"
      },
      "source": [
        "> 📎 **old_faithful_geyser.csv** 파일을 업로드하세요.  \n",
        "파일에는 반드시 헤더가 있어야 하며, 첫 줄은 건너뜁니다.\n"
      ]
    },
    {
      "cell_type": "code",
      "execution_count": null,
      "metadata": {
        "colab": {
          "base_uri": "https://localhost:8080/",
          "height": 78
        },
        "id": "fTnvUQCpGg5O",
        "outputId": "9176891b-16a7-46a8-f650-facb0f127df4"
      },
      "outputs": [
        {
          "data": {
            "text/html": [
              "\n",
              "     <input type=\"file\" id=\"files-8b29c80e-f17e-4bdd-8d51-c05779e9498c\" name=\"files[]\" multiple disabled\n",
              "        style=\"border:none\" />\n",
              "     <output id=\"result-8b29c80e-f17e-4bdd-8d51-c05779e9498c\">\n",
              "      Upload widget is only available when the cell has been executed in the\n",
              "      current browser session. Please rerun this cell to enable.\n",
              "      </output>\n",
              "      <script>// Copyright 2017 Google LLC\n",
              "//\n",
              "// Licensed under the Apache License, Version 2.0 (the \"License\");\n",
              "// you may not use this file except in compliance with the License.\n",
              "// You may obtain a copy of the License at\n",
              "//\n",
              "//      http://www.apache.org/licenses/LICENSE-2.0\n",
              "//\n",
              "// Unless required by applicable law or agreed to in writing, software\n",
              "// distributed under the License is distributed on an \"AS IS\" BASIS,\n",
              "// WITHOUT WARRANTIES OR CONDITIONS OF ANY KIND, either express or implied.\n",
              "// See the License for the specific language governing permissions and\n",
              "// limitations under the License.\n",
              "\n",
              "/**\n",
              " * @fileoverview Helpers for google.colab Python module.\n",
              " */\n",
              "(function(scope) {\n",
              "function span(text, styleAttributes = {}) {\n",
              "  const element = document.createElement('span');\n",
              "  element.textContent = text;\n",
              "  for (const key of Object.keys(styleAttributes)) {\n",
              "    element.style[key] = styleAttributes[key];\n",
              "  }\n",
              "  return element;\n",
              "}\n",
              "\n",
              "// Max number of bytes which will be uploaded at a time.\n",
              "const MAX_PAYLOAD_SIZE = 100 * 1024;\n",
              "\n",
              "function _uploadFiles(inputId, outputId) {\n",
              "  const steps = uploadFilesStep(inputId, outputId);\n",
              "  const outputElement = document.getElementById(outputId);\n",
              "  // Cache steps on the outputElement to make it available for the next call\n",
              "  // to uploadFilesContinue from Python.\n",
              "  outputElement.steps = steps;\n",
              "\n",
              "  return _uploadFilesContinue(outputId);\n",
              "}\n",
              "\n",
              "// This is roughly an async generator (not supported in the browser yet),\n",
              "// where there are multiple asynchronous steps and the Python side is going\n",
              "// to poll for completion of each step.\n",
              "// This uses a Promise to block the python side on completion of each step,\n",
              "// then passes the result of the previous step as the input to the next step.\n",
              "function _uploadFilesContinue(outputId) {\n",
              "  const outputElement = document.getElementById(outputId);\n",
              "  const steps = outputElement.steps;\n",
              "\n",
              "  const next = steps.next(outputElement.lastPromiseValue);\n",
              "  return Promise.resolve(next.value.promise).then((value) => {\n",
              "    // Cache the last promise value to make it available to the next\n",
              "    // step of the generator.\n",
              "    outputElement.lastPromiseValue = value;\n",
              "    return next.value.response;\n",
              "  });\n",
              "}\n",
              "\n",
              "/**\n",
              " * Generator function which is called between each async step of the upload\n",
              " * process.\n",
              " * @param {string} inputId Element ID of the input file picker element.\n",
              " * @param {string} outputId Element ID of the output display.\n",
              " * @return {!Iterable<!Object>} Iterable of next steps.\n",
              " */\n",
              "function* uploadFilesStep(inputId, outputId) {\n",
              "  const inputElement = document.getElementById(inputId);\n",
              "  inputElement.disabled = false;\n",
              "\n",
              "  const outputElement = document.getElementById(outputId);\n",
              "  outputElement.innerHTML = '';\n",
              "\n",
              "  const pickedPromise = new Promise((resolve) => {\n",
              "    inputElement.addEventListener('change', (e) => {\n",
              "      resolve(e.target.files);\n",
              "    });\n",
              "  });\n",
              "\n",
              "  const cancel = document.createElement('button');\n",
              "  inputElement.parentElement.appendChild(cancel);\n",
              "  cancel.textContent = 'Cancel upload';\n",
              "  const cancelPromise = new Promise((resolve) => {\n",
              "    cancel.onclick = () => {\n",
              "      resolve(null);\n",
              "    };\n",
              "  });\n",
              "\n",
              "  // Wait for the user to pick the files.\n",
              "  const files = yield {\n",
              "    promise: Promise.race([pickedPromise, cancelPromise]),\n",
              "    response: {\n",
              "      action: 'starting',\n",
              "    }\n",
              "  };\n",
              "\n",
              "  cancel.remove();\n",
              "\n",
              "  // Disable the input element since further picks are not allowed.\n",
              "  inputElement.disabled = true;\n",
              "\n",
              "  if (!files) {\n",
              "    return {\n",
              "      response: {\n",
              "        action: 'complete',\n",
              "      }\n",
              "    };\n",
              "  }\n",
              "\n",
              "  for (const file of files) {\n",
              "    const li = document.createElement('li');\n",
              "    li.append(span(file.name, {fontWeight: 'bold'}));\n",
              "    li.append(span(\n",
              "        `(${file.type || 'n/a'}) - ${file.size} bytes, ` +\n",
              "        `last modified: ${\n",
              "            file.lastModifiedDate ? file.lastModifiedDate.toLocaleDateString() :\n",
              "                                    'n/a'} - `));\n",
              "    const percent = span('0% done');\n",
              "    li.appendChild(percent);\n",
              "\n",
              "    outputElement.appendChild(li);\n",
              "\n",
              "    const fileDataPromise = new Promise((resolve) => {\n",
              "      const reader = new FileReader();\n",
              "      reader.onload = (e) => {\n",
              "        resolve(e.target.result);\n",
              "      };\n",
              "      reader.readAsArrayBuffer(file);\n",
              "    });\n",
              "    // Wait for the data to be ready.\n",
              "    let fileData = yield {\n",
              "      promise: fileDataPromise,\n",
              "      response: {\n",
              "        action: 'continue',\n",
              "      }\n",
              "    };\n",
              "\n",
              "    // Use a chunked sending to avoid message size limits. See b/62115660.\n",
              "    let position = 0;\n",
              "    do {\n",
              "      const length = Math.min(fileData.byteLength - position, MAX_PAYLOAD_SIZE);\n",
              "      const chunk = new Uint8Array(fileData, position, length);\n",
              "      position += length;\n",
              "\n",
              "      const base64 = btoa(String.fromCharCode.apply(null, chunk));\n",
              "      yield {\n",
              "        response: {\n",
              "          action: 'append',\n",
              "          file: file.name,\n",
              "          data: base64,\n",
              "        },\n",
              "      };\n",
              "\n",
              "      let percentDone = fileData.byteLength === 0 ?\n",
              "          100 :\n",
              "          Math.round((position / fileData.byteLength) * 100);\n",
              "      percent.textContent = `${percentDone}% done`;\n",
              "\n",
              "    } while (position < fileData.byteLength);\n",
              "  }\n",
              "\n",
              "  // All done.\n",
              "  yield {\n",
              "    response: {\n",
              "      action: 'complete',\n",
              "    }\n",
              "  };\n",
              "}\n",
              "\n",
              "scope.google = scope.google || {};\n",
              "scope.google.colab = scope.google.colab || {};\n",
              "scope.google.colab._files = {\n",
              "  _uploadFiles,\n",
              "  _uploadFilesContinue,\n",
              "};\n",
              "})(self);\n",
              "</script> "
            ],
            "text/plain": [
              "<IPython.core.display.HTML object>"
            ]
          },
          "metadata": {},
          "output_type": "display_data"
        },
        {
          "name": "stdout",
          "output_type": "stream",
          "text": [
            "Saving old_faithful_geyser.csv to old_faithful_geyser (1).csv\n"
          ]
        }
      ],
      "source": [
        "from google.colab import files\n",
        "uploaded = files.upload()"
      ]
    },
    {
      "cell_type": "markdown",
      "metadata": {
        "id": "1KsgSjhEG7m4"
      },
      "source": [
        "> ✅ 이 데이터는 2차원 형태이며, 첫 번째 열은 **분출 시간**, 두 번째 열은 **대기 시간**입니다."
      ]
    },
    {
      "cell_type": "code",
      "execution_count": null,
      "metadata": {
        "colab": {
          "base_uri": "https://localhost:8080/"
        },
        "collapsed": true,
        "id": "HA7XiKVgGXSb",
        "outputId": "fdf2899a-f41a-44f8-e700-df248383e3a7"
      },
      "outputs": [
        {
          "ename": "",
          "evalue": "",
          "output_type": "error",
          "traceback": [
            "\u001b[1;31mRunning cells with 'Python 3.13.3' requires the ipykernel package.\n",
            "\u001b[1;31m<a href='command:jupyter.createPythonEnvAndSelectController'>Create a Python Environment</a> with the required packages.\n",
            "\u001b[1;31mOr install 'ipykernel' using the command: 'c:/Users/USER/AppData/Local/Programs/Python/Python313/python.exe -m pip install ipykernel -U --user --force-reinstall'"
          ]
        }
      ],
      "source": [
        "import numpy as np\n",
        "\n",
        "# CSV 로드 (첫 줄은 헤더이므로 건너뜀)\n",
        "data = np.loadtxt(\"old_faithful_geyser.csv\", delimiter=\",\", skiprows=1)\n",
        "X = data  # (N, 2)\n",
        "\n",
        "# 간단히 상위 5개 출력\n",
        "print(\"샘플 데이터 (분출 시간, 대기 시간):\")\n",
        "print(X[:5])"
      ]
    },
    {
      "cell_type": "markdown",
      "metadata": {
        "id": "9rdyRajTHETX"
      },
      "source": [
        "> 🔍 위 그래프는 간헐천의 분출 시간과 대기 시간 간의 분포를 보여줍니다.  \n",
        "대체로 **긴 분출은 긴 대기 시간**, **짧은 분출은 짧은 대기 시간**과 관련 있습니다.\n"
      ]
    },
    {
      "cell_type": "code",
      "execution_count": 4,
      "metadata": {
        "colab": {
          "base_uri": "https://localhost:8080/",
          "height": 564
        },
        "collapsed": true,
        "id": "RTD2cI-eHFl-",
        "outputId": "f1125468-40f0-45bf-ec70-c5446c330767"
      },
      "outputs": [
        {
          "data": {
            "image/png": "[encoded data removed]",
            "text/plain": [
              "<Figure size 800x600 with 1 Axes>"
            ]
          },
          "metadata": {},
          "output_type": "display_data"
        }
      ],
      "source": [
        "import matplotlib.pyplot as plt\n",
        "\n",
        "plt.figure(figsize=(8,6))\n",
        "plt.scatter(X[:, 0], X[:, 1], c='gray', edgecolor='black')\n",
        "plt.xlabel(\"Eruption duration (min)\")\n",
        "plt.ylabel(\"Waiting time (min)\")\n",
        "plt.title(\"Old Faithful Geyser Raw Data\")\n",
        "plt.grid(True)\n",
        "plt.show()\n"
      ]
    },
    {
      "cell_type": "markdown",
      "metadata": {
        "id": "FY2XozxXHJC5"
      },
      "source": [
        " K-Means 클러스터링 (K=2)\n",
        "\n"
      ]
    },
    {
      "cell_type": "code",
      "execution_count": 5,
      "metadata": {
        "id": "n7vFEGS2HSBB"
      },
      "outputs": [],
      "source": [
        "from sklearn.cluster import KMeans\n",
        "\n",
        "# 클러스터 수 2로 지정\n",
        "kmeans = KMeans(n_clusters=2, random_state=0)\n",
        "kmeans.fit(X)\n",
        "\n",
        "labels = kmeans.labels_           # 클러스터 레이블 (0 또는 1)\n",
        "centroids = kmeans.cluster_centers_  # 중심점 좌표\n"
      ]
    },
    {
      "cell_type": "code",
      "execution_count": 6,
      "metadata": {
        "colab": {
          "base_uri": "https://localhost:8080/"
        },
        "id": "U6n-hDfHHTYM",
        "outputId": "b31a9182-1aff-424c-d30a-eceac57e0a7f"
      },
      "outputs": [
        {
          "name": "stdout",
          "output_type": "stream",
          "text": [
            "클러스터 레이블 (앞 10개): [1 0 1 0 1 0 1 1 0 1]\n",
            "클러스터 중심점:\n",
            "[[ 2.09433    54.75      ]\n",
            " [ 4.29793023 80.28488372]]\n",
            "SSE (Sum of Squared Errors): 8901.77\n"
          ]
        }
      ],
      "source": [
        "# 클러스터 레이블 확인 (앞 10개)\n",
        "print(\"클러스터 레이블 (앞 10개):\", labels[:10])\n",
        "\n",
        "# 클러스터 중심점 출력\n",
        "print(\"클러스터 중심점:\")\n",
        "print(centroids)\n",
        "\n",
        "# SSE 출력\n",
        "print(f\"SSE (Sum of Squared Errors): {kmeans.inertia_:.2f}\")\n"
      ]
    },
    {
      "cell_type": "markdown",
      "metadata": {
        "id": "PFkic4fcHVx8"
      },
      "source": [
        "- `labels`: 각 데이터가 속한 클러스터 번호 (0 또는 1)\n",
        "- `centroids`: 클러스터 중심점 좌표 (분출 시간, 대기 시간)\n",
        "- `inertia_`: 모든 포인트가 소속 클러스터 중심과 얼마나 가까운지를 나타내는 척도 (작을수록 좋음)\n"
      ]
    },
    {
      "cell_type": "markdown",
      "metadata": {
        "id": "GSolDiT1HYrB"
      },
      "source": [
        "클러스터링 결과 시각화"
      ]
    },
    {
      "cell_type": "code",
      "execution_count": 1,
      "metadata": {
        "colab": {
          "base_uri": "https://localhost:8080/",
          "height": 564
        },
        "id": "hWgqGcYPHaD0",
        "outputId": "6b3c1179-bdaf-4e96-ed56-c690c9d05db3"
      },
      "outputs": [
        {
          "ename": "NameError",
          "evalue": "name 'plt' is not defined",
          "output_type": "error",
          "traceback": [
            "\u001b[31m---------------------------------------------------------------------------\u001b[39m",
            "\u001b[31mNameError\u001b[39m                                 Traceback (most recent call last)",
            "\u001b[36mCell\u001b[39m\u001b[36m \u001b[39m\u001b[32mIn[1]\u001b[39m\u001b[32m, line 1\u001b[39m\n\u001b[32m----> \u001b[39m\u001b[32m1\u001b[39m \u001b[43mplt\u001b[49m.figure(figsize=(\u001b[32m8\u001b[39m,\u001b[32m6\u001b[39m))\n\u001b[32m      3\u001b[39m \u001b[38;5;66;03m# 클러스터별 색상 시각화\u001b[39;00m\n\u001b[32m      4\u001b[39m plt.scatter(X[:, \u001b[32m0\u001b[39m], X[:, \u001b[32m1\u001b[39m], c=labels, cmap=\u001b[33m'\u001b[39m\u001b[33mAccent\u001b[39m\u001b[33m'\u001b[39m, s=\u001b[32m80\u001b[39m, edgecolor=\u001b[33m'\u001b[39m\u001b[33mblack\u001b[39m\u001b[33m'\u001b[39m, label=\u001b[33m'\u001b[39m\u001b[33mPoints\u001b[39m\u001b[33m'\u001b[39m)\n",
            "\u001b[31mNameError\u001b[39m: name 'plt' is not defined"
          ]
        }
      ],
      "source": [
        "plt.figure(figsize=(8,6))\n",
        "\n",
        "# 클러스터별 색상 시각화\n",
        "plt.scatter(X[:, 0], X[:, 1], c=labels, cmap='Accent', s=80, edgecolor='black', label='Points')\n",
        "\n",
        "# 중심점 시각화\n",
        "plt.scatter(centroids[:, 0], centroids[:, 1], c='red', marker='X', s=200, label='Centroids')\n",
        "\n",
        "plt.xlabel(\"Eruption duration (min)\")\n",
        "plt.ylabel(\"Waiting time (min)\")\n",
        "plt.title(\"K-Means Clustering Result (K=2)\")\n",
        "plt.legend()\n",
        "plt.grid(True)\n",
        "plt.show()\n"
      ]
    },
    {
      "cell_type": "markdown",
      "metadata": {
        "id": "tFzfynDaHeT0"
      },
      "source": [
        "> 🔴 두 개의 클러스터가 분명하게 나뉘는 것을 확인할 수 있습니다.\n",
        "> - 클러스터 0: 짧은 분출 + 짧은 대기\n",
        "> - 클러스터 1: 긴 분출 + 긴 대기\n"
      ]
    }
  ],
  "metadata": {
    "colab": {
      "provenance": []
    },
    "kernelspec": {
      "display_name": "Python 3",
      "name": "python3"
    },
    "language_info": {
      "codemirror_mode": {
        "name": "ipython",
        "version": 3
      },
      "file_extension": ".py",
      "mimetype": "text/x-python",
      "name": "python",
      "nbconvert_exporter": "python",
      "pygments_lexer": "ipython3",
      "version": "3.12.6"
    }
  },
  "nbformat": 4,
  "nbformat_minor": 0
}
